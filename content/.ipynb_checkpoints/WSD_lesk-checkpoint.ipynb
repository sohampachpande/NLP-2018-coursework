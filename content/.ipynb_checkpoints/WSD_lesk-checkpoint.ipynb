{
 "cells": [
  {
   "cell_type": "code",
   "execution_count": 37,
   "metadata": {},
   "outputs": [],
   "source": [
    "import nltk\n",
    "from nltk.corpus import wordnet as wn\n",
    "from nltk.corpus import stopwords\n",
    "from nltk.stem import WordNetLemmatizer\n",
    "from nltk.tokenize import word_tokenize"
   ]
  },
  {
   "cell_type": "markdown",
   "metadata": {},
   "source": [
    "## Preprocessing input for Lesk's Algorithm"
   ]
  },
  {
   "cell_type": "code",
   "execution_count": 38,
   "metadata": {},
   "outputs": [],
   "source": [
    "def pre_proccess(sentence):\n",
    "    processed_sent = []\n",
    "    # tokenize words of the sentence\n",
    "    words = word_tokenize(sentence)\n",
    "    # Lemmatize words to get their root form\n",
    "    lemmatizer = WordNetLemmatizer()\n",
    "    # Get stop words\n",
    "    stop_words = set(stopwords.words(\"english\"))\n",
    "\n",
    "    # Remove stopwards and add lemmatized root form of words\n",
    "    for w in words:\n",
    "        if w not in stop_words:\n",
    "                processed_sent.append(lemmatizer.lemmatize(w))\n",
    "\n",
    "    return processed_sent"
   ]
  },
  {
   "cell_type": "markdown",
   "metadata": {},
   "source": [
    "## Get Context bag consisting of all senses of the context words"
   ]
  },
  {
   "cell_type": "code",
   "execution_count": 39,
   "metadata": {
    "scrolled": true
   },
   "outputs": [],
   "source": [
    "def lesk_context_bag(context_sentence, word):\n",
    "    context_bag_list = []\n",
    "    context_sentence.remove(word)\n",
    "    for w in context_sentence:\n",
    "        for syn in wn.synsets(w):\n",
    "            gloss = pre_proccess(str(syn.definition()))\n",
    "            for w_g in gloss:\n",
    "                context_bag_list.append(w_g)\n",
    "    return context_bag_list\n",
    "\n",
    "# lesk_context_bag(sent, word)"
   ]
  },
  {
   "cell_type": "markdown",
   "metadata": {},
   "source": [
    "## Get Lesk score for each Sense of the Ambiguous word"
   ]
  },
  {
   "cell_type": "code",
   "execution_count": 40,
   "metadata": {},
   "outputs": [],
   "source": [
    "def compute_lesk_score(context_sentence, word):\n",
    "    lesk_scores = {}\n",
    "    context_bag = lesk_context_bag(context_sentence, word)\n",
    "    for sense in wn.synsets(word):\n",
    "        count = 0\n",
    "        for w_gloss in sense.definition().split():\n",
    "            for w in context_bag:\n",
    "                if w==w_gloss:\n",
    "                    count += 1\n",
    "        lesk_scores[sense.name()] = count\n",
    "    return lesk_scores"
   ]
  },
  {
   "cell_type": "markdown",
   "metadata": {},
   "source": [
    "# Get the most Apt Sense of the Ambiguous word \n",
    "# Using Lesk Score as metric"
   ]
  },
  {
   "cell_type": "code",
   "execution_count": 41,
   "metadata": {},
   "outputs": [],
   "source": [
    "def lesk(context_sentence, word):\n",
    "    lesk_scores = compute_lesk_score(context_sentence, word)\n",
    "    max_ = 0\n",
    "    lesk_prediction = None\n",
    "    for s in lesk_scores:\n",
    "        if max_ < lesk_scores[s]:\n",
    "            lesk_prediction = s\n",
    "            max_ = lesk_scores[s]\n",
    "    \n",
    "    return lesk_prediction"
   ]
  },
  {
   "cell_type": "markdown",
   "metadata": {},
   "source": [
    "# Walker Algorithm"
   ]
  },
  {
   "cell_type": "code",
   "execution_count": 99,
   "metadata": {},
   "outputs": [],
   "source": [
    "def walker(sent, word, method = \"path_similarity\"):\n",
    "    max_ = 0\n",
    "    predicted = None\n",
    "    for sense in wn.synsets(word):\n",
    "        score = 0\n",
    "        for w in sent:\n",
    "            for context_sense in wn.synsets(w):\n",
    "#                 print(sense.name(), context_sense.name())\n",
    "                try:\n",
    "                    if method == \"path_similarity\":\n",
    "                        score += wn.synset(sense.name()).path_similarity(wn.synset(context_sense.name()))\n",
    "                    elif method == \"lch_similarity\":\n",
    "                        score += wn.synset(sense.name()).lch_similarity(wn.synset(context_sense.name()))\n",
    "                    elif method == \"wup_similarity\":\n",
    "                        score += wn.synset(sense.name()).wup_similarity(wn.synset(context_sense.name()))\n",
    "                except:\n",
    "                    continue\n",
    "        if max_ < score:\n",
    "            max_ = score\n",
    "            predicted = sense\n",
    "    return predicted"
   ]
  },
  {
   "cell_type": "markdown",
   "metadata": {},
   "source": [
    "## Get Input"
   ]
  },
  {
   "cell_type": "code",
   "execution_count": 100,
   "metadata": {},
   "outputs": [],
   "source": [
    "# sent = input(\"Enter Sentence\")\n",
    "# ambi_word = input(\"Enter Ambiguous word\")\n",
    "\n",
    "sentence = \"Soham drives his bicycle on the bank of the road\"#\"Chris gets 5 percent interest on his money in the bank\"\n",
    "ambiguous_word = \"bank\""
   ]
  },
  {
   "cell_type": "markdown",
   "metadata": {},
   "source": [
    "# Test"
   ]
  },
  {
   "cell_type": "code",
   "execution_count": 101,
   "metadata": {},
   "outputs": [
    {
     "data": {
      "text/plain": [
       "('bank.n.07',\n",
       " 'a slope in the turn of a road or track; the outside is higher than the inside in order to reduce the effects of centrifugal force')"
      ]
     },
     "execution_count": 101,
     "metadata": {},
     "output_type": "execute_result"
    }
   ],
   "source": [
    "word = WordNetLemmatizer().lemmatize(ambiguous_word)\n",
    "# print(word)\n",
    "sent = pre_proccess(sentence)\n",
    "# print(sent)\n",
    "\n",
    "prediction = lesk(sent, word)\n",
    "w = wn.synset(prediction)\n",
    "w.name(), w.definition()\n",
    "# compute_lesk_score(sent, word)"
   ]
  },
  {
   "cell_type": "markdown",
   "metadata": {},
   "source": [
    "## Test for Walkers algorithm\n",
    "The Algorithm works better with tagged data"
   ]
  },
  {
   "cell_type": "code",
   "execution_count": 107,
   "metadata": {},
   "outputs": [
    {
     "data": {
      "text/plain": [
       "('bank.v.05', 'be in the banking business')"
      ]
     },
     "execution_count": 107,
     "metadata": {},
     "output_type": "execute_result"
    }
   ],
   "source": [
    "w = walker(sent, word, method=\"wup_similarity\")\n",
    "w.name(), w.definition()"
   ]
  },
  {
   "cell_type": "code",
   "execution_count": null,
   "metadata": {},
   "outputs": [],
   "source": []
  }
 ],
 "metadata": {
  "kernelspec": {
   "display_name": "Python 3",
   "language": "python",
   "name": "python3"
  },
  "language_info": {
   "codemirror_mode": {
    "name": "ipython",
    "version": 3
   },
   "file_extension": ".py",
   "mimetype": "text/x-python",
   "name": "python",
   "nbconvert_exporter": "python",
   "pygments_lexer": "ipython3",
   "version": "3.6.7"
  }
 },
 "nbformat": 4,
 "nbformat_minor": 2
}
