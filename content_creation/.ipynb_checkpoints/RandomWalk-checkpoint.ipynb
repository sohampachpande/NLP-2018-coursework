{
 "cells": [
  {
   "cell_type": "code",
   "execution_count": 1,
   "metadata": {},
   "outputs": [],
   "source": [
    "import nltk\n",
    "from nltk.corpus import wordnet as wn\n",
    "from nltk.corpus import stopwords\n",
    "from nltk.stem import WordNetLemmatizer\n",
    "from nltk.tokenize import word_tokenize\n",
    "\n",
    "import networkx as nx # for graph"
   ]
  },
  {
   "cell_type": "code",
   "execution_count": 2,
   "metadata": {},
   "outputs": [],
   "source": [
    "sentence = \"Chris gets 5 percent interest on his money in the bank\"#\"Soham drives his bicycle on the bank of the road\""
   ]
  },
  {
   "cell_type": "markdown",
   "metadata": {},
   "source": [
    "## Preprocessing input "
   ]
  },
  {
   "cell_type": "code",
   "execution_count": 3,
   "metadata": {},
   "outputs": [],
   "source": [
    "def pre_process(sentence):\n",
    "    processed_sent_list = []\n",
    "    # tokenize words of the sentence\n",
    "    words = word_tokenize(sentence)\n",
    "    # Lemmatize words to get their root form\n",
    "    lemmatizer = WordNetLemmatizer()\n",
    "    # Get stop words\n",
    "    stop_words = set(stopwords.words(\"english\"))\n",
    "\n",
    "    # Remove stopwards and add lemmatized root form of words\n",
    "    for w in words:\n",
    "        if w not in stop_words:\n",
    "                processed_sent_list.append(lemmatizer.lemmatize(w))\n",
    "\n",
    "    return processed_sent_list"
   ]
  },
  {
   "cell_type": "markdown",
   "metadata": {},
   "source": [
    "# Compute Lesk Score"
   ]
  },
  {
   "cell_type": "markdown",
   "metadata": {},
   "source": [
    "## Get Context bag consisting of all senses of a word"
   ]
  },
  {
   "cell_type": "code",
   "execution_count": 4,
   "metadata": {
    "scrolled": true
   },
   "outputs": [],
   "source": [
    "def lesk_context_bag_word(word):\n",
    "    context_bag_list = []\n",
    "    syn = wn.synset(word)\n",
    "    gloss = pre_process(str(syn.definition()))\n",
    "    for w_g in gloss:\n",
    "        context_bag_list.append(w_g)\n",
    "    return context_bag_list\n",
    "\n",
    "# lesk_context_bag(sent, word)"
   ]
  },
  {
   "cell_type": "markdown",
   "metadata": {},
   "source": [
    "## Get Lesk score for two words"
   ]
  },
  {
   "cell_type": "code",
   "execution_count": 10,
   "metadata": {},
   "outputs": [],
   "source": [
    "def compute_lesk_score_word(word1, word2):\n",
    "    lesk_score = 0\n",
    "    context_bag_word1 = set(lesk_context_bag_word(word1))\n",
    "    context_bag_word2 = set(lesk_context_bag_word(word2))\n",
    "    \n",
    "    \n",
    "    lesk_score = context_bag_word1.intersection(context_bag_word2)\n",
    "    \n",
    "    return len(lesk_score)"
   ]
  },
  {
   "cell_type": "markdown",
   "metadata": {},
   "source": [
    "# Create Graph"
   ]
  },
  {
   "cell_type": "code",
   "execution_count": 11,
   "metadata": {},
   "outputs": [
    {
     "name": "stdout",
     "output_type": "stream",
     "text": [
      "['Chris', 'get', '5', 'percent', 'interest', 'money', 'bank']\n"
     ]
    }
   ],
   "source": [
    "G = nx.DiGraph()\n",
    "sent_list = pre_process(sentence)\n",
    "print(sent_list)\n",
    "for i in range(len(sent_list)-1):\n",
    "    w1 = sent_list[i]\n",
    "    w2 = sent_list[i+1]\n",
    "    for w1_sense in wn.synsets(w1):\n",
    "        for w2_sense in wn.synsets(w2):\n",
    "            lesk_score = compute_lesk_score_word(w1_sense.name(), w2_sense.name())\n",
    "            if lesk_score>0:\n",
    "                G.add_edge(str(i)+'_'+w1_sense.name(), str(i+1)+'_'+w2_sense.name(), weight = lesk_score)"
   ]
  },
  {
   "cell_type": "code",
   "execution_count": 12,
   "metadata": {},
   "outputs": [
    {
     "data": {
      "text/plain": [
       "{'3_percentage.n.01': 0.035288635308543176,\n",
       " '4_interest.n.03': 0.040581970245405455,\n",
       " '4_interest.n.04': 0.040581970245405455,\n",
       " '4_interest.n.05': 0.040581970245405455,\n",
       " '4_interest.n.06': 0.0432286377138366,\n",
       " '4_pastime.n.01': 0.0432286377138366,\n",
       " '5_money.n.01': 0.16074033502652232,\n",
       " '5_money.n.02': 0.05355058445977523,\n",
       " '4_interest.v.01': 0.035288635308543176,\n",
       " '6_bank.n.07': 0.10762069300834666,\n",
       " '6_bank.n.10': 0.10762069300834666,\n",
       " '6_depository_financial_institution.n.01': 0.059386343430343526,\n",
       " '6_savings_bank.n.02': 0.059386343430343526,\n",
       " '5_money.n.03': 0.035288635308543176,\n",
       " '6_bank.v.02': 0.04587530518226774,\n",
       " '6_bank.v.03': 0.04587530518226774,\n",
       " '6_deposit.v.02': 0.04587530518226774}"
      ]
     },
     "execution_count": 12,
     "metadata": {},
     "output_type": "execute_result"
    }
   ],
   "source": [
    "page_rank = nx.pagerank( G, alpha = 0.9)\n",
    "page_rank"
   ]
  },
  {
   "cell_type": "code",
   "execution_count": 14,
   "metadata": {},
   "outputs": [
    {
     "data": {
      "image/png": "[encoded data removed]",
      "text/plain": [
       "<Figure size 432x288 with 1 Axes>"
      ]
     },
     "metadata": {},
     "output_type": "display_data"
    }
   ],
   "source": [
    "nx.draw(G)"
   ]
  }
 ],
 "metadata": {
  "kernelspec": {
   "display_name": "Python 3",
   "language": "python",
   "name": "python3"
  },
  "language_info": {
   "codemirror_mode": {
    "name": "ipython",
    "version": 3
   },
   "file_extension": ".py",
   "mimetype": "text/x-python",
   "name": "python",
   "nbconvert_exporter": "python",
   "pygments_lexer": "ipython3",
   "version": "3.6.7"
  }
 },
 "nbformat": 4,
 "nbformat_minor": 2
}
